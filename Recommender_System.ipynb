{
  "nbformat": 4,
  "nbformat_minor": 0,
  "metadata": {
    "colab": {
      "provenance": [],
      "authorship_tag": "ABX9TyOYWfCTeh3o33mXyN5e7E00",
      "include_colab_link": true
    },
    "kernelspec": {
      "name": "python3",
      "display_name": "Python 3"
    }
  },
  "cells": [
    {
      "cell_type": "markdown",
      "metadata": {
        "id": "view-in-github",
        "colab_type": "text"
      },
      "source": [
        "<a href=\"https://colab.research.google.com/github/soham-jain/Book_Recommender_System/blob/master/Recommender_System.ipynb\" target=\"_parent\"><img src=\"https://colab.research.google.com/assets/colab-badge.svg\" alt=\"Open In Colab\"/></a>"
      ]
    },
    {
      "cell_type": "code",
      "metadata": {
        "id": "gUg_9vJvORYe"
      },
      "source": [
        "import numpy as np\n",
        "import pandas as pd\n",
        "import seaborn as sns\n",
        "import matplotlib.pyplot as plt\n",
        "import plotly.express as px"
      ],
      "execution_count": null,
      "outputs": []
    },
    {
      "cell_type": "code",
      "metadata": {
        "id": "cP6NR-saNu7u",
        "colab": {
          "base_uri": "https://localhost:8080/",
          "height": 122
        },
        "outputId": "7a5fd9a4-f377-4a2b-b7ed-a43c4448062d"
      },
      "source": [
        "from google.colab import drive\n",
        "drive.mount('/content/drive')"
      ],
      "execution_count": null,
      "outputs": [
        {
          "output_type": "stream",
          "text": [
            "Go to this URL in a browser: https://accounts.google.com/o/oauth2/auth?client_id=947318989803-6bn6qk8qdgf4n4g3pfee6491hc0brc4i.apps.googleusercontent.com&redirect_uri=urn%3aietf%3awg%3aoauth%3a2.0%3aoob&scope=email%20https%3a%2f%2fwww.googleapis.com%2fauth%2fdocs.test%20https%3a%2f%2fwww.googleapis.com%2fauth%2fdrive%20https%3a%2f%2fwww.googleapis.com%2fauth%2fdrive.photos.readonly%20https%3a%2f%2fwww.googleapis.com%2fauth%2fpeopleapi.readonly&response_type=code\n",
            "\n",
            "Enter your authorization code:\n",
            "··········\n",
            "Mounted at /content/drive\n"
          ],
          "name": "stdout"
        }
      ]
    },
    {
      "cell_type": "markdown",
      "metadata": {
        "id": "a38xyz19LWQ4"
      },
      "source": [
        "# Books Dataset"
      ]
    },
    {
      "cell_type": "code",
      "metadata": {
        "id": "y4kEkxlyOc9N",
        "colab": {
          "base_uri": "https://localhost:8080/",
          "height": 462
        },
        "outputId": "00d67d39-45b2-4e13-fee5-9838e56e1efc"
      },
      "source": [
        "books=pd.read_csv(\"/content/drive/My Drive/Major Project CSVs/books.csv\")\n",
        "books[31:36]"
      ],
      "execution_count": null,
      "outputs": [
        {
          "output_type": "execute_result",
          "data": {
            "text/html": [
              "<div>\n",
              "<style scoped>\n",
              "    .dataframe tbody tr th:only-of-type {\n",
              "        vertical-align: middle;\n",
              "    }\n",
              "\n",
              "    .dataframe tbody tr th {\n",
              "        vertical-align: top;\n",
              "    }\n",
              "\n",
              "    .dataframe thead th {\n",
              "        text-align: right;\n",
              "    }\n",
              "</style>\n",
              "<table border=\"1\" class=\"dataframe\">\n",
              "  <thead>\n",
              "    <tr style=\"text-align: right;\">\n",
              "      <th></th>\n",
              "      <th>id</th>\n",
              "      <th>book_id</th>\n",
              "      <th>best_book_id</th>\n",
              "      <th>work_id</th>\n",
              "      <th>books_count</th>\n",
              "      <th>isbn</th>\n",
              "      <th>isbn13</th>\n",
              "      <th>authors</th>\n",
              "      <th>original_publication_year</th>\n",
              "      <th>original_title</th>\n",
              "      <th>title</th>\n",
              "      <th>language_code</th>\n",
              "      <th>average_rating</th>\n",
              "      <th>ratings_count</th>\n",
              "      <th>work_ratings_count</th>\n",
              "      <th>work_text_reviews_count</th>\n",
              "      <th>ratings_1</th>\n",
              "      <th>ratings_2</th>\n",
              "      <th>ratings_3</th>\n",
              "      <th>ratings_4</th>\n",
              "      <th>ratings_5</th>\n",
              "      <th>image_url</th>\n",
              "      <th>small_image_url</th>\n",
              "    </tr>\n",
              "  </thead>\n",
              "  <tbody>\n",
              "    <tr>\n",
              "      <th>31</th>\n",
              "      <td>32</td>\n",
              "      <td>890</td>\n",
              "      <td>890</td>\n",
              "      <td>40283</td>\n",
              "      <td>373</td>\n",
              "      <td>142000671</td>\n",
              "      <td>9.780142e+12</td>\n",
              "      <td>John Steinbeck</td>\n",
              "      <td>1937.0</td>\n",
              "      <td>Of Mice and Men</td>\n",
              "      <td>Of Mice and Men</td>\n",
              "      <td>eng</td>\n",
              "      <td>3.84</td>\n",
              "      <td>1467496</td>\n",
              "      <td>1518741</td>\n",
              "      <td>24642</td>\n",
              "      <td>46630</td>\n",
              "      <td>110856</td>\n",
              "      <td>355169</td>\n",
              "      <td>532291</td>\n",
              "      <td>473795</td>\n",
              "      <td>https://images.gr-assets.com/books/1437235233m...</td>\n",
              "      <td>https://images.gr-assets.com/books/1437235233s...</td>\n",
              "    </tr>\n",
              "    <tr>\n",
              "      <th>32</th>\n",
              "      <td>33</td>\n",
              "      <td>930</td>\n",
              "      <td>929</td>\n",
              "      <td>1558965</td>\n",
              "      <td>220</td>\n",
              "      <td>739326228</td>\n",
              "      <td>9.780739e+12</td>\n",
              "      <td>Arthur Golden</td>\n",
              "      <td>1997.0</td>\n",
              "      <td>Memoirs of a Geisha</td>\n",
              "      <td>Memoirs of a Geisha</td>\n",
              "      <td>eng</td>\n",
              "      <td>4.08</td>\n",
              "      <td>1300209</td>\n",
              "      <td>1418172</td>\n",
              "      <td>25605</td>\n",
              "      <td>23500</td>\n",
              "      <td>59033</td>\n",
              "      <td>258700</td>\n",
              "      <td>517157</td>\n",
              "      <td>559782</td>\n",
              "      <td>https://s.gr-assets.com/assets/nophoto/book/11...</td>\n",
              "      <td>https://s.gr-assets.com/assets/nophoto/book/50...</td>\n",
              "    </tr>\n",
              "    <tr>\n",
              "      <th>33</th>\n",
              "      <td>34</td>\n",
              "      <td>10818853</td>\n",
              "      <td>10818853</td>\n",
              "      <td>15732562</td>\n",
              "      <td>169</td>\n",
              "      <td>1612130291</td>\n",
              "      <td>9.781612e+12</td>\n",
              "      <td>E.L. James</td>\n",
              "      <td>2011.0</td>\n",
              "      <td>Fifty Shades of Grey</td>\n",
              "      <td>Fifty Shades of Grey (Fifty Shades, #1)</td>\n",
              "      <td>eng</td>\n",
              "      <td>3.67</td>\n",
              "      <td>1338493</td>\n",
              "      <td>1436818</td>\n",
              "      <td>75437</td>\n",
              "      <td>165455</td>\n",
              "      <td>152293</td>\n",
              "      <td>252185</td>\n",
              "      <td>294976</td>\n",
              "      <td>571909</td>\n",
              "      <td>https://images.gr-assets.com/books/1385207843m...</td>\n",
              "      <td>https://images.gr-assets.com/books/1385207843s...</td>\n",
              "    </tr>\n",
              "    <tr>\n",
              "      <th>34</th>\n",
              "      <td>35</td>\n",
              "      <td>865</td>\n",
              "      <td>865</td>\n",
              "      <td>4835472</td>\n",
              "      <td>458</td>\n",
              "      <td>61122416</td>\n",
              "      <td>9.780061e+12</td>\n",
              "      <td>Paulo Coelho, Alan R. Clarke</td>\n",
              "      <td>1988.0</td>\n",
              "      <td>O Alquimista</td>\n",
              "      <td>The Alchemist</td>\n",
              "      <td>eng</td>\n",
              "      <td>3.82</td>\n",
              "      <td>1299566</td>\n",
              "      <td>1403995</td>\n",
              "      <td>55781</td>\n",
              "      <td>74846</td>\n",
              "      <td>123614</td>\n",
              "      <td>289143</td>\n",
              "      <td>412180</td>\n",
              "      <td>504212</td>\n",
              "      <td>https://images.gr-assets.com/books/1483412266m...</td>\n",
              "      <td>https://images.gr-assets.com/books/1483412266s...</td>\n",
              "    </tr>\n",
              "    <tr>\n",
              "      <th>35</th>\n",
              "      <td>36</td>\n",
              "      <td>3636</td>\n",
              "      <td>3636</td>\n",
              "      <td>2543234</td>\n",
              "      <td>192</td>\n",
              "      <td>385732554</td>\n",
              "      <td>9.780386e+12</td>\n",
              "      <td>Lois Lowry</td>\n",
              "      <td>1993.0</td>\n",
              "      <td>The Giver</td>\n",
              "      <td>The Giver (The Giver, #1)</td>\n",
              "      <td>eng</td>\n",
              "      <td>4.12</td>\n",
              "      <td>1296825</td>\n",
              "      <td>1345445</td>\n",
              "      <td>54084</td>\n",
              "      <td>26497</td>\n",
              "      <td>59652</td>\n",
              "      <td>225326</td>\n",
              "      <td>448691</td>\n",
              "      <td>585279</td>\n",
              "      <td>https://images.gr-assets.com/books/1342493368m...</td>\n",
              "      <td>https://images.gr-assets.com/books/1342493368s...</td>\n",
              "    </tr>\n",
              "  </tbody>\n",
              "</table>\n",
              "</div>"
            ],
            "text/plain": [
              "    id  ...                                    small_image_url\n",
              "31  32  ...  https://images.gr-assets.com/books/1437235233s...\n",
              "32  33  ...  https://s.gr-assets.com/assets/nophoto/book/50...\n",
              "33  34  ...  https://images.gr-assets.com/books/1385207843s...\n",
              "34  35  ...  https://images.gr-assets.com/books/1483412266s...\n",
              "35  36  ...  https://images.gr-assets.com/books/1342493368s...\n",
              "\n",
              "[5 rows x 23 columns]"
            ]
          },
          "metadata": {
            "tags": []
          },
          "execution_count": 3
        }
      ]
    },
    {
      "cell_type": "code",
      "metadata": {
        "id": "9E1E8GOQXa-G",
        "colab": {
          "base_uri": "https://localhost:8080/",
          "height": 34
        },
        "outputId": "e182768f-0240-4760-d7ba-a81ab95a39ad"
      },
      "source": [
        "books.shape"
      ],
      "execution_count": null,
      "outputs": [
        {
          "output_type": "execute_result",
          "data": {
            "text/plain": [
              "(10000, 23)"
            ]
          },
          "metadata": {
            "tags": []
          },
          "execution_count": 4
        }
      ]
    },
    {
      "cell_type": "code",
      "metadata": {
        "id": "B7pH10LfX2Vg",
        "colab": {
          "base_uri": "https://localhost:8080/",
          "height": 34
        },
        "outputId": "a706b45a-fb8f-4185-d3b6-87b7969502b4"
      },
      "source": [
        "books.drop_duplicates(subset=\"original_title\", keep=False, inplace=True)\n",
        "books.shape"
      ],
      "execution_count": null,
      "outputs": [
        {
          "output_type": "execute_result",
          "data": {
            "text/plain": [
              "(9151, 23)"
            ]
          },
          "metadata": {
            "tags": []
          },
          "execution_count": 5
        }
      ]
    },
    {
      "cell_type": "markdown",
      "metadata": {
        "id": "_U0hA6oAcLbk"
      },
      "source": [
        "Hence, there were **849 duplicates** in the **'books'** dataset which have been removed."
      ]
    },
    {
      "cell_type": "markdown",
      "metadata": {
        "id": "iCfOfca2Lefz"
      },
      "source": [
        "#Ratings Dataset"
      ]
    },
    {
      "cell_type": "code",
      "metadata": {
        "id": "OTJibwP_X9QM",
        "colab": {
          "base_uri": "https://localhost:8080/",
          "height": 266
        },
        "outputId": "dc3d63a9-eb07-46ee-8e9d-36edbe9c2f93"
      },
      "source": [
        "ratings=pd.read_csv(\"/content/drive/My Drive/Major Project CSVs/ratings.csv\")\n",
        "ratings.tail(7)"
      ],
      "execution_count": null,
      "outputs": [
        {
          "output_type": "execute_result",
          "data": {
            "text/html": [
              "<div>\n",
              "<style scoped>\n",
              "    .dataframe tbody tr th:only-of-type {\n",
              "        vertical-align: middle;\n",
              "    }\n",
              "\n",
              "    .dataframe tbody tr th {\n",
              "        vertical-align: top;\n",
              "    }\n",
              "\n",
              "    .dataframe thead th {\n",
              "        text-align: right;\n",
              "    }\n",
              "</style>\n",
              "<table border=\"1\" class=\"dataframe\">\n",
              "  <thead>\n",
              "    <tr style=\"text-align: right;\">\n",
              "      <th></th>\n",
              "      <th>book_id</th>\n",
              "      <th>user_id</th>\n",
              "      <th>rating</th>\n",
              "    </tr>\n",
              "  </thead>\n",
              "  <tbody>\n",
              "    <tr>\n",
              "      <th>981749</th>\n",
              "      <td>10000</td>\n",
              "      <td>48201</td>\n",
              "      <td>5</td>\n",
              "    </tr>\n",
              "    <tr>\n",
              "      <th>981750</th>\n",
              "      <td>10000</td>\n",
              "      <td>48281</td>\n",
              "      <td>4</td>\n",
              "    </tr>\n",
              "    <tr>\n",
              "      <th>981751</th>\n",
              "      <td>10000</td>\n",
              "      <td>48386</td>\n",
              "      <td>5</td>\n",
              "    </tr>\n",
              "    <tr>\n",
              "      <th>981752</th>\n",
              "      <td>10000</td>\n",
              "      <td>49007</td>\n",
              "      <td>4</td>\n",
              "    </tr>\n",
              "    <tr>\n",
              "      <th>981753</th>\n",
              "      <td>10000</td>\n",
              "      <td>49383</td>\n",
              "      <td>5</td>\n",
              "    </tr>\n",
              "    <tr>\n",
              "      <th>981754</th>\n",
              "      <td>10000</td>\n",
              "      <td>50124</td>\n",
              "      <td>5</td>\n",
              "    </tr>\n",
              "    <tr>\n",
              "      <th>981755</th>\n",
              "      <td>10000</td>\n",
              "      <td>51328</td>\n",
              "      <td>1</td>\n",
              "    </tr>\n",
              "  </tbody>\n",
              "</table>\n",
              "</div>"
            ],
            "text/plain": [
              "        book_id  user_id  rating\n",
              "981749    10000    48201       5\n",
              "981750    10000    48281       4\n",
              "981751    10000    48386       5\n",
              "981752    10000    49007       4\n",
              "981753    10000    49383       5\n",
              "981754    10000    50124       5\n",
              "981755    10000    51328       1"
            ]
          },
          "metadata": {
            "tags": []
          },
          "execution_count": 4
        }
      ]
    },
    {
      "cell_type": "code",
      "metadata": {
        "id": "4WvkiOylcdC2",
        "colab": {
          "base_uri": "https://localhost:8080/",
          "height": 34
        },
        "outputId": "b835fd84-960e-4881-c563-b02e491d023d"
      },
      "source": [
        "ratings.shape"
      ],
      "execution_count": null,
      "outputs": [
        {
          "output_type": "execute_result",
          "data": {
            "text/plain": [
              "(981756, 3)"
            ]
          },
          "metadata": {
            "tags": []
          },
          "execution_count": 7
        }
      ]
    },
    {
      "cell_type": "code",
      "metadata": {
        "id": "me7i3vdLFLEB",
        "colab": {
          "base_uri": "https://localhost:8080/",
          "height": 34
        },
        "outputId": "98fb50aa-0bae-46da-9c25-26cc735bcd21"
      },
      "source": [
        "ratings.drop_duplicates(subset=['book_id','user_id'],keep=False,inplace=True)\n",
        "ratings.shape"
      ],
      "execution_count": null,
      "outputs": [
        {
          "output_type": "execute_result",
          "data": {
            "text/plain": [
              "(977269, 3)"
            ]
          },
          "metadata": {
            "tags": []
          },
          "execution_count": 8
        }
      ]
    },
    {
      "cell_type": "markdown",
      "metadata": {
        "id": "zIhoE0EvQ6Tq"
      },
      "source": [
        "Therefore, in this dataset, there are **4487 duplicates** that have been cleaned."
      ]
    },
    {
      "cell_type": "markdown",
      "metadata": {
        "id": "KOTrBRuaLkAi"
      },
      "source": [
        "# Book Tags Dataset"
      ]
    },
    {
      "cell_type": "code",
      "metadata": {
        "id": "8KeokFACdn9X",
        "colab": {
          "base_uri": "https://localhost:8080/",
          "height": 173
        },
        "outputId": "84320ce4-f911-425a-e536-07261de142ac"
      },
      "source": [
        "btags=pd.read_csv(\"/content/drive/My Drive/Major Project CSVs/book_tags.csv\")\n",
        "btags.tail(4)"
      ],
      "execution_count": null,
      "outputs": [
        {
          "output_type": "execute_result",
          "data": {
            "text/html": [
              "<div>\n",
              "<style scoped>\n",
              "    .dataframe tbody tr th:only-of-type {\n",
              "        vertical-align: middle;\n",
              "    }\n",
              "\n",
              "    .dataframe tbody tr th {\n",
              "        vertical-align: top;\n",
              "    }\n",
              "\n",
              "    .dataframe thead th {\n",
              "        text-align: right;\n",
              "    }\n",
              "</style>\n",
              "<table border=\"1\" class=\"dataframe\">\n",
              "  <thead>\n",
              "    <tr style=\"text-align: right;\">\n",
              "      <th></th>\n",
              "      <th>goodreads_book_id</th>\n",
              "      <th>tag_id</th>\n",
              "      <th>count</th>\n",
              "    </tr>\n",
              "  </thead>\n",
              "  <tbody>\n",
              "    <tr>\n",
              "      <th>999908</th>\n",
              "      <td>33288638</td>\n",
              "      <td>17271</td>\n",
              "      <td>7</td>\n",
              "    </tr>\n",
              "    <tr>\n",
              "      <th>999909</th>\n",
              "      <td>33288638</td>\n",
              "      <td>1126</td>\n",
              "      <td>7</td>\n",
              "    </tr>\n",
              "    <tr>\n",
              "      <th>999910</th>\n",
              "      <td>33288638</td>\n",
              "      <td>11478</td>\n",
              "      <td>7</td>\n",
              "    </tr>\n",
              "    <tr>\n",
              "      <th>999911</th>\n",
              "      <td>33288638</td>\n",
              "      <td>27939</td>\n",
              "      <td>7</td>\n",
              "    </tr>\n",
              "  </tbody>\n",
              "</table>\n",
              "</div>"
            ],
            "text/plain": [
              "        goodreads_book_id  tag_id  count\n",
              "999908           33288638   17271      7\n",
              "999909           33288638    1126      7\n",
              "999910           33288638   11478      7\n",
              "999911           33288638   27939      7"
            ]
          },
          "metadata": {
            "tags": []
          },
          "execution_count": 5
        }
      ]
    },
    {
      "cell_type": "code",
      "metadata": {
        "id": "V7sZTggYR3Jd",
        "colab": {
          "base_uri": "https://localhost:8080/",
          "height": 34
        },
        "outputId": "1d879298-e597-49cc-c8da-3f718865e647"
      },
      "source": [
        "btags.shape"
      ],
      "execution_count": null,
      "outputs": [
        {
          "output_type": "execute_result",
          "data": {
            "text/plain": [
              "(999912, 3)"
            ]
          },
          "metadata": {
            "tags": []
          },
          "execution_count": 10
        }
      ]
    },
    {
      "cell_type": "code",
      "metadata": {
        "id": "OKQMNzVdR64P",
        "colab": {
          "base_uri": "https://localhost:8080/",
          "height": 34
        },
        "outputId": "0cca4ef3-1722-446f-94ca-bb7ae8312d60"
      },
      "source": [
        "btags.drop_duplicates(subset=['goodreads_book_id','tag_id'],keep=False,inplace=True)\n",
        "btags.shape"
      ],
      "execution_count": null,
      "outputs": [
        {
          "output_type": "execute_result",
          "data": {
            "text/plain": [
              "(999896, 3)"
            ]
          },
          "metadata": {
            "tags": []
          },
          "execution_count": 11
        }
      ]
    },
    {
      "cell_type": "markdown",
      "metadata": {
        "id": "3cj4uvoWY7rd"
      },
      "source": [
        "There are no significant duplicate values in this dataset - **16 duplicates**."
      ]
    },
    {
      "cell_type": "markdown",
      "metadata": {
        "id": "ElrPMlPKL2WJ"
      },
      "source": [
        "# Tags Dataset"
      ]
    },
    {
      "cell_type": "code",
      "metadata": {
        "id": "PNIey6lDeVup",
        "colab": {
          "base_uri": "https://localhost:8080/",
          "height": 266
        },
        "outputId": "0d886e27-16d8-4c15-c67a-a763a3033e3b"
      },
      "source": [
        "tags=pd.read_csv(\"/content/drive/My Drive/Major Project CSVs/tags.csv\")\n",
        "tags.tail(7)"
      ],
      "execution_count": null,
      "outputs": [
        {
          "output_type": "execute_result",
          "data": {
            "text/html": [
              "<div>\n",
              "<style scoped>\n",
              "    .dataframe tbody tr th:only-of-type {\n",
              "        vertical-align: middle;\n",
              "    }\n",
              "\n",
              "    .dataframe tbody tr th {\n",
              "        vertical-align: top;\n",
              "    }\n",
              "\n",
              "    .dataframe thead th {\n",
              "        text-align: right;\n",
              "    }\n",
              "</style>\n",
              "<table border=\"1\" class=\"dataframe\">\n",
              "  <thead>\n",
              "    <tr style=\"text-align: right;\">\n",
              "      <th></th>\n",
              "      <th>tag_id</th>\n",
              "      <th>tag_name</th>\n",
              "    </tr>\n",
              "  </thead>\n",
              "  <tbody>\n",
              "    <tr>\n",
              "      <th>34245</th>\n",
              "      <td>34245</td>\n",
              "      <td>ﺭﺿﻮﻯ-عاشور</td>\n",
              "    </tr>\n",
              "    <tr>\n",
              "      <th>34246</th>\n",
              "      <td>34246</td>\n",
              "      <td>ﻳﻮﺳﻒ-زيدان</td>\n",
              "    </tr>\n",
              "    <tr>\n",
              "      <th>34247</th>\n",
              "      <td>34247</td>\n",
              "      <td>Ｃhildrens</td>\n",
              "    </tr>\n",
              "    <tr>\n",
              "      <th>34248</th>\n",
              "      <td>34248</td>\n",
              "      <td>Ｆａｖｏｒｉｔｅｓ</td>\n",
              "    </tr>\n",
              "    <tr>\n",
              "      <th>34249</th>\n",
              "      <td>34249</td>\n",
              "      <td>Ｍａｎｇａ</td>\n",
              "    </tr>\n",
              "    <tr>\n",
              "      <th>34250</th>\n",
              "      <td>34250</td>\n",
              "      <td>ＳＥＲＩＥＳ</td>\n",
              "    </tr>\n",
              "    <tr>\n",
              "      <th>34251</th>\n",
              "      <td>34251</td>\n",
              "      <td>ｆａｖｏｕｒｉｔｅｓ</td>\n",
              "    </tr>\n",
              "  </tbody>\n",
              "</table>\n",
              "</div>"
            ],
            "text/plain": [
              "       tag_id    tag_name\n",
              "34245   34245  ﺭﺿﻮﻯ-عاشور\n",
              "34246   34246  ﻳﻮﺳﻒ-زيدان\n",
              "34247   34247   Ｃhildrens\n",
              "34248   34248   Ｆａｖｏｒｉｔｅｓ\n",
              "34249   34249       Ｍａｎｇａ\n",
              "34250   34250      ＳＥＲＩＥＳ\n",
              "34251   34251  ｆａｖｏｕｒｉｔｅｓ"
            ]
          },
          "metadata": {
            "tags": []
          },
          "execution_count": 6
        }
      ]
    },
    {
      "cell_type": "code",
      "metadata": {
        "id": "u3pVVLTCZdDH",
        "colab": {
          "base_uri": "https://localhost:8080/",
          "height": 34
        },
        "outputId": "71655f7b-ce7e-48e9-f976-787cc9d15c40"
      },
      "source": [
        "tags.shape"
      ],
      "execution_count": null,
      "outputs": [
        {
          "output_type": "execute_result",
          "data": {
            "text/plain": [
              "(34252, 2)"
            ]
          },
          "metadata": {
            "tags": []
          },
          "execution_count": 13
        }
      ]
    },
    {
      "cell_type": "code",
      "metadata": {
        "id": "OkCAOgkcZgo4",
        "colab": {
          "base_uri": "https://localhost:8080/",
          "height": 34
        },
        "outputId": "ca0cca6a-777d-4f77-ab8f-6f061ab1da06"
      },
      "source": [
        "tags.drop_duplicates(subset='tag_name',keep=False,inplace=True)\n",
        "tags.shape"
      ],
      "execution_count": null,
      "outputs": [
        {
          "output_type": "execute_result",
          "data": {
            "text/plain": [
              "(34252, 2)"
            ]
          },
          "metadata": {
            "tags": []
          },
          "execution_count": 14
        }
      ]
    },
    {
      "cell_type": "markdown",
      "metadata": {
        "id": "MgyKqCydZzqM"
      },
      "source": [
        "This dataset has **no duplicate values** i.e. each entry of this dataset is **unique**."
      ]
    },
    {
      "cell_type": "markdown",
      "metadata": {
        "id": "EL6W2C5pMJVf"
      },
      "source": [
        "# Deep Dive into Datasets"
      ]
    },
    {
      "cell_type": "code",
      "metadata": {
        "id": "-zkNNJvkaDM0"
      },
      "source": [
        "merged_tags=pd.merge(tags,btags,left_on='tag_id',right_on='tag_id',how='inner')"
      ],
      "execution_count": null,
      "outputs": []
    },
    {
      "cell_type": "code",
      "metadata": {
        "id": "jIN-FUSV8GSk"
      },
      "source": [
        "from IPython.display import Image\n",
        "from IPython.display import HTML"
      ],
      "execution_count": null,
      "outputs": []
    },
    {
      "cell_type": "code",
      "metadata": {
        "id": "AVsPo5I3-ych"
      },
      "source": [
        "def image_path(path):\n",
        "  return  '<img src=\"'+ path + '\"\"/>'"
      ],
      "execution_count": null,
      "outputs": []
    },
    {
      "cell_type": "code",
      "metadata": {
        "id": "fK5vAcYRCw4O"
      },
      "source": [
        "top_popular_books=books.sort_values('ratings_count',ascending=False)\n",
        "top7=top_popular_books.head(7)\n",
        "b=['title','small_image_url']\n",
        "Popular=(top7[b])\n",
        "Popular.set_index('title', inplace=True)"
      ],
      "execution_count": null,
      "outputs": []
    },
    {
      "cell_type": "markdown",
      "metadata": {
        "id": "bp_i76lZEvG9"
      },
      "source": [
        "**The 7 Most Popular Books**"
      ]
    },
    {
      "cell_type": "code",
      "metadata": {
        "id": "owVntauID3sG",
        "colab": {
          "base_uri": "https://localhost:8080/",
          "height": 730
        },
        "outputId": "c6fba0d2-358f-4a12-9705-9ad551d8bc81"
      },
      "source": [
        "HTML(Popular.to_html(escape=False, formatters=dict(small_image_url=image_path), justify='center'))"
      ],
      "execution_count": null,
      "outputs": [
        {
          "output_type": "execute_result",
          "data": {
            "text/html": [
              "<table border=\"1\" class=\"dataframe\">\n",
              "  <thead>\n",
              "    <tr style=\"text-align: center;\">\n",
              "      <th></th>\n",
              "      <th>small_image_url</th>\n",
              "    </tr>\n",
              "    <tr>\n",
              "      <th>title</th>\n",
              "      <th></th>\n",
              "    </tr>\n",
              "  </thead>\n",
              "  <tbody>\n",
              "    <tr>\n",
              "      <th>The Hunger Games (The Hunger Games, #1)</th>\n",
              "      <td><img src=\"https://images.gr-assets.com/books/1447303603s/2767052.jpg\"\"/></td>\n",
              "    </tr>\n",
              "    <tr>\n",
              "      <th>Harry Potter and the Sorcerer's Stone (Harry Potter, #1)</th>\n",
              "      <td><img src=\"https://images.gr-assets.com/books/1474154022s/3.jpg\"\"/></td>\n",
              "    </tr>\n",
              "    <tr>\n",
              "      <th>To Kill a Mockingbird</th>\n",
              "      <td><img src=\"https://images.gr-assets.com/books/1361975680s/2657.jpg\"\"/></td>\n",
              "    </tr>\n",
              "    <tr>\n",
              "      <th>The Great Gatsby</th>\n",
              "      <td><img src=\"https://images.gr-assets.com/books/1490528560s/4671.jpg\"\"/></td>\n",
              "    </tr>\n",
              "    <tr>\n",
              "      <th>The Fault in Our Stars</th>\n",
              "      <td><img src=\"https://images.gr-assets.com/books/1360206420s/11870085.jpg\"\"/></td>\n",
              "    </tr>\n",
              "    <tr>\n",
              "      <th>The Hobbit</th>\n",
              "      <td><img src=\"https://images.gr-assets.com/books/1372847500s/5907.jpg\"\"/></td>\n",
              "    </tr>\n",
              "    <tr>\n",
              "      <th>The Catcher in the Rye</th>\n",
              "      <td><img src=\"https://images.gr-assets.com/books/1398034300s/5107.jpg\"\"/></td>\n",
              "    </tr>\n",
              "  </tbody>\n",
              "</table>"
            ],
            "text/plain": [
              "<IPython.core.display.HTML object>"
            ]
          },
          "metadata": {
            "tags": []
          },
          "execution_count": 19
        }
      ]
    },
    {
      "cell_type": "code",
      "metadata": {
        "id": "uhacU0hrM3W1"
      },
      "source": [
        "top_rated_books=books.sort_values('average_rating',ascending=False)\n",
        "top7=top_rated_books.head(7)\n",
        "c=['title','small_image_url']\n",
        "rated=(top7[c])\n",
        "rated.set_index('title', inplace=True)"
      ],
      "execution_count": null,
      "outputs": []
    },
    {
      "cell_type": "markdown",
      "metadata": {
        "id": "EoywVJZxQEnw"
      },
      "source": [
        "**The 7 Most Rated Books**"
      ]
    },
    {
      "cell_type": "code",
      "metadata": {
        "id": "T_gDFdIKQG9Y",
        "colab": {
          "base_uri": "https://localhost:8080/",
          "height": 631
        },
        "outputId": "d9c636cd-982f-4763-c441-07fe20ee2586"
      },
      "source": [
        "HTML(rated.to_html(escape=False, formatters=dict(small_image_url=image_path), justify='center'))"
      ],
      "execution_count": null,
      "outputs": [
        {
          "output_type": "execute_result",
          "data": {
            "text/html": [
              "<table border=\"1\" class=\"dataframe\">\n",
              "  <thead>\n",
              "    <tr style=\"text-align: center;\">\n",
              "      <th></th>\n",
              "      <th>small_image_url</th>\n",
              "    </tr>\n",
              "    <tr>\n",
              "      <th>title</th>\n",
              "      <th></th>\n",
              "    </tr>\n",
              "  </thead>\n",
              "  <tbody>\n",
              "    <tr>\n",
              "      <th>The Complete Calvin and Hobbes</th>\n",
              "      <td><img src=\"https://images.gr-assets.com/books/1473064526s/24812.jpg\"\"/></td>\n",
              "    </tr>\n",
              "    <tr>\n",
              "      <th>Words of Radiance (The Stormlight Archive, #2)</th>\n",
              "      <td><img src=\"https://images.gr-assets.com/books/1391535251s/17332218.jpg\"\"/></td>\n",
              "    </tr>\n",
              "    <tr>\n",
              "      <th>Mark of the Lion Trilogy</th>\n",
              "      <td><img src=\"https://images.gr-assets.com/books/1349032180s/95602.jpg\"\"/></td>\n",
              "    </tr>\n",
              "    <tr>\n",
              "      <th>It's a Magical World: A Calvin and Hobbes Collection</th>\n",
              "      <td><img src=\"https://images.gr-assets.com/books/1437420710s/24814.jpg\"\"/></td>\n",
              "    </tr>\n",
              "    <tr>\n",
              "      <th>There's Treasure Everywhere: A Calvin and Hobbes Collection</th>\n",
              "      <td><img src=\"https://s.gr-assets.com/assets/nophoto/book/50x75-a91bf249278a81aabab721ef782c4a74.png\"\"/></td>\n",
              "    </tr>\n",
              "    <tr>\n",
              "      <th>Harry Potter Boxset (Harry Potter, #1-7)</th>\n",
              "      <td><img src=\"https://images.gr-assets.com/books/1392579059s/862041.jpg\"\"/></td>\n",
              "    </tr>\n",
              "    <tr>\n",
              "      <th>Harry Potter Collection (Harry Potter, #1-6)</th>\n",
              "      <td><img src=\"https://images.gr-assets.com/books/1328867351s/10.jpg\"\"/></td>\n",
              "    </tr>\n",
              "  </tbody>\n",
              "</table>"
            ],
            "text/plain": [
              "<IPython.core.display.HTML object>"
            ]
          },
          "metadata": {
            "tags": []
          },
          "execution_count": 21
        }
      ]
    },
    {
      "cell_type": "code",
      "metadata": {
        "id": "_8nDhU72E6kV",
        "colab": {
          "base_uri": "https://localhost:8080/",
          "height": 352
        },
        "outputId": "b3d86b19-8715-4608-bdc1-695c6fc9d9d5"
      },
      "source": [
        "plt.figure(figsize=(9,5))\n",
        "sns.distplot(a=books['average_rating'],kde=True, color='g')\n",
        "plt.show"
      ],
      "execution_count": null,
      "outputs": [
        {
          "output_type": "execute_result",
          "data": {
            "text/plain": [
              "<function matplotlib.pyplot.show>"
            ]
          },
          "metadata": {
            "tags": []
          },
          "execution_count": 22
        },
        {
          "output_type": "display_data",
          "data": {
            "image/png": "[encoded data removed]",
            "text/plain": [
              "<Figure size 648x360 with 1 Axes>"
            ]
          },
          "metadata": {
            "tags": [],
            "needs_background": "light"
          }
        }
      ]
    },
    {
      "cell_type": "markdown",
      "metadata": {
        "id": "0z9YgT5QIuY2"
      },
      "source": [
        "By the looks of this graph almost 95% books have ratings between 3.5 - 4.5"
      ]
    },
    {
      "cell_type": "code",
      "metadata": {
        "id": "40ahcNhQHxyt",
        "colab": {
          "base_uri": "https://localhost:8080/",
          "height": 450
        },
        "outputId": "c5f5783b-1b92-4135-a399-300cf3334aeb"
      },
      "source": [
        "ratings_per_book=ratings.groupby('book_id').count()\n",
        "ratings_per_book"
      ],
      "execution_count": null,
      "outputs": [
        {
          "output_type": "execute_result",
          "data": {
            "text/html": [
              "<div>\n",
              "<style scoped>\n",
              "    .dataframe tbody tr th:only-of-type {\n",
              "        vertical-align: middle;\n",
              "    }\n",
              "\n",
              "    .dataframe tbody tr th {\n",
              "        vertical-align: top;\n",
              "    }\n",
              "\n",
              "    .dataframe thead th {\n",
              "        text-align: right;\n",
              "    }\n",
              "</style>\n",
              "<table border=\"1\" class=\"dataframe\">\n",
              "  <thead>\n",
              "    <tr style=\"text-align: right;\">\n",
              "      <th></th>\n",
              "      <th>user_id</th>\n",
              "      <th>rating</th>\n",
              "    </tr>\n",
              "    <tr>\n",
              "      <th>book_id</th>\n",
              "      <th></th>\n",
              "      <th></th>\n",
              "    </tr>\n",
              "  </thead>\n",
              "  <tbody>\n",
              "    <tr>\n",
              "      <th>1</th>\n",
              "      <td>100</td>\n",
              "      <td>100</td>\n",
              "    </tr>\n",
              "    <tr>\n",
              "      <th>2</th>\n",
              "      <td>100</td>\n",
              "      <td>100</td>\n",
              "    </tr>\n",
              "    <tr>\n",
              "      <th>3</th>\n",
              "      <td>100</td>\n",
              "      <td>100</td>\n",
              "    </tr>\n",
              "    <tr>\n",
              "      <th>4</th>\n",
              "      <td>100</td>\n",
              "      <td>100</td>\n",
              "    </tr>\n",
              "    <tr>\n",
              "      <th>5</th>\n",
              "      <td>100</td>\n",
              "      <td>100</td>\n",
              "    </tr>\n",
              "    <tr>\n",
              "      <th>...</th>\n",
              "      <td>...</td>\n",
              "      <td>...</td>\n",
              "    </tr>\n",
              "    <tr>\n",
              "      <th>9996</th>\n",
              "      <td>96</td>\n",
              "      <td>96</td>\n",
              "    </tr>\n",
              "    <tr>\n",
              "      <th>9997</th>\n",
              "      <td>89</td>\n",
              "      <td>89</td>\n",
              "    </tr>\n",
              "    <tr>\n",
              "      <th>9998</th>\n",
              "      <td>95</td>\n",
              "      <td>95</td>\n",
              "    </tr>\n",
              "    <tr>\n",
              "      <th>9999</th>\n",
              "      <td>99</td>\n",
              "      <td>99</td>\n",
              "    </tr>\n",
              "    <tr>\n",
              "      <th>10000</th>\n",
              "      <td>96</td>\n",
              "      <td>96</td>\n",
              "    </tr>\n",
              "  </tbody>\n",
              "</table>\n",
              "<p>10000 rows × 2 columns</p>\n",
              "</div>"
            ],
            "text/plain": [
              "         user_id  rating\n",
              "book_id                 \n",
              "1            100     100\n",
              "2            100     100\n",
              "3            100     100\n",
              "4            100     100\n",
              "5            100     100\n",
              "...          ...     ...\n",
              "9996          96      96\n",
              "9997          89      89\n",
              "9998          95      95\n",
              "9999          99      99\n",
              "10000         96      96\n",
              "\n",
              "[10000 rows x 2 columns]"
            ]
          },
          "metadata": {
            "tags": []
          },
          "execution_count": 23
        }
      ]
    },
    {
      "cell_type": "code",
      "metadata": {
        "id": "ooeCK14CJ6mw",
        "colab": {
          "base_uri": "https://localhost:8080/",
          "height": 351
        },
        "outputId": "68e55d38-ab9f-4fdd-f782-3ea0469f3e7c"
      },
      "source": [
        "plt.figure(figsize=(9,5))\n",
        "sns.distplot(a=ratings_per_book['rating'], color='r')\n",
        "plt.show"
      ],
      "execution_count": null,
      "outputs": [
        {
          "output_type": "execute_result",
          "data": {
            "text/plain": [
              "<function matplotlib.pyplot.show>"
            ]
          },
          "metadata": {
            "tags": []
          },
          "execution_count": 24
        },
        {
          "output_type": "display_data",
          "data": {
            "image/png": "[encoded data removed]",
            "text/plain": [
              "<Figure size 648x360 with 1 Axes>"
            ]
          },
          "metadata": {
            "tags": [],
            "needs_background": "light"
          }
        }
      ]
    },
    {
      "cell_type": "markdown",
      "metadata": {
        "id": "ZwPD5dmCKWcN"
      },
      "source": [
        "A major chunk of books in the dataset have ratings of more than 90."
      ]
    },
    {
      "cell_type": "markdown",
      "metadata": {
        "id": "Wj5tiLr_aRaW"
      },
      "source": [
        "# The Recommender System"
      ]
    },
    {
      "cell_type": "code",
      "metadata": {
        "id": "ozEBtOLragGW"
      },
      "source": [
        "fillnabooks=books.fillna('')"
      ],
      "execution_count": null,
      "outputs": []
    },
    {
      "cell_type": "code",
      "metadata": {
        "id": "Cb2_ukcRbPDu",
        "colab": {
          "base_uri": "https://localhost:8080/",
          "height": 204
        },
        "outputId": "49127135-7471-4dda-9c4c-00e10575d9dc"
      },
      "source": [
        "req_col=['original_title','authors','average_rating']\n",
        "fillednabooks=fillnabooks[req_col]\n",
        "fillednabooks[31:36]"
      ],
      "execution_count": null,
      "outputs": [
        {
          "output_type": "execute_result",
          "data": {
            "text/html": [
              "<div>\n",
              "<style scoped>\n",
              "    .dataframe tbody tr th:only-of-type {\n",
              "        vertical-align: middle;\n",
              "    }\n",
              "\n",
              "    .dataframe tbody tr th {\n",
              "        vertical-align: top;\n",
              "    }\n",
              "\n",
              "    .dataframe thead th {\n",
              "        text-align: right;\n",
              "    }\n",
              "</style>\n",
              "<table border=\"1\" class=\"dataframe\">\n",
              "  <thead>\n",
              "    <tr style=\"text-align: right;\">\n",
              "      <th></th>\n",
              "      <th>original_title</th>\n",
              "      <th>authors</th>\n",
              "      <th>average_rating</th>\n",
              "    </tr>\n",
              "  </thead>\n",
              "  <tbody>\n",
              "    <tr>\n",
              "      <th>31</th>\n",
              "      <td>Of Mice and Men</td>\n",
              "      <td>John Steinbeck</td>\n",
              "      <td>3.84</td>\n",
              "    </tr>\n",
              "    <tr>\n",
              "      <th>32</th>\n",
              "      <td>Memoirs of a Geisha</td>\n",
              "      <td>Arthur Golden</td>\n",
              "      <td>4.08</td>\n",
              "    </tr>\n",
              "    <tr>\n",
              "      <th>33</th>\n",
              "      <td>Fifty Shades of Grey</td>\n",
              "      <td>E.L. James</td>\n",
              "      <td>3.67</td>\n",
              "    </tr>\n",
              "    <tr>\n",
              "      <th>34</th>\n",
              "      <td>O Alquimista</td>\n",
              "      <td>Paulo Coelho, Alan R. Clarke</td>\n",
              "      <td>3.82</td>\n",
              "    </tr>\n",
              "    <tr>\n",
              "      <th>35</th>\n",
              "      <td>The Giver</td>\n",
              "      <td>Lois Lowry</td>\n",
              "      <td>4.12</td>\n",
              "    </tr>\n",
              "  </tbody>\n",
              "</table>\n",
              "</div>"
            ],
            "text/plain": [
              "          original_title                       authors  average_rating\n",
              "31      Of Mice and Men                 John Steinbeck            3.84\n",
              "32   Memoirs of a Geisha                 Arthur Golden            4.08\n",
              "33  Fifty Shades of Grey                    E.L. James            3.67\n",
              "34          O Alquimista  Paulo Coelho, Alan R. Clarke            3.82\n",
              "35             The Giver                    Lois Lowry            4.12"
            ]
          },
          "metadata": {
            "tags": []
          },
          "execution_count": 8
        }
      ]
    },
    {
      "cell_type": "code",
      "metadata": {
        "id": "EtYFRdl_bzhK",
        "colab": {
          "base_uri": "https://localhost:8080/",
          "height": 85
        },
        "outputId": "090ce4e5-8904-4e90-d4a9-b2e72ee77672"
      },
      "source": [
        "fillednabooks=fillednabooks.astype(str)\n",
        "fillednabooks.dtypes"
      ],
      "execution_count": null,
      "outputs": [
        {
          "output_type": "execute_result",
          "data": {
            "text/plain": [
              "original_title    object\n",
              "authors           object\n",
              "average_rating    object\n",
              "dtype: object"
            ]
          },
          "metadata": {
            "tags": []
          },
          "execution_count": 9
        }
      ]
    },
    {
      "cell_type": "code",
      "metadata": {
        "id": "9Ss1CxS5axFP"
      },
      "source": [
        "def clean_data(x):\n",
        "  return str.lower(x.replace(' ',''))"
      ],
      "execution_count": null,
      "outputs": []
    },
    {
      "cell_type": "code",
      "metadata": {
        "id": "ni24uONlcJ6Q",
        "colab": {
          "base_uri": "https://localhost:8080/",
          "height": 204
        },
        "outputId": "f4d81e87-8583-482d-eb46-c267f2c2b9fa"
      },
      "source": [
        "for i in req_col:\n",
        "    fillednabooks[i] = fillednabooks[i].apply(clean_data)\n",
        "\n",
        "fillednabooks[31:36]"
      ],
      "execution_count": null,
      "outputs": [
        {
          "output_type": "execute_result",
          "data": {
            "text/html": [
              "<div>\n",
              "<style scoped>\n",
              "    .dataframe tbody tr th:only-of-type {\n",
              "        vertical-align: middle;\n",
              "    }\n",
              "\n",
              "    .dataframe tbody tr th {\n",
              "        vertical-align: top;\n",
              "    }\n",
              "\n",
              "    .dataframe thead th {\n",
              "        text-align: right;\n",
              "    }\n",
              "</style>\n",
              "<table border=\"1\" class=\"dataframe\">\n",
              "  <thead>\n",
              "    <tr style=\"text-align: right;\">\n",
              "      <th></th>\n",
              "      <th>original_title</th>\n",
              "      <th>authors</th>\n",
              "      <th>average_rating</th>\n",
              "    </tr>\n",
              "  </thead>\n",
              "  <tbody>\n",
              "    <tr>\n",
              "      <th>31</th>\n",
              "      <td>ofmiceandmen</td>\n",
              "      <td>johnsteinbeck</td>\n",
              "      <td>3.84</td>\n",
              "    </tr>\n",
              "    <tr>\n",
              "      <th>32</th>\n",
              "      <td>memoirsofageisha</td>\n",
              "      <td>arthurgolden</td>\n",
              "      <td>4.08</td>\n",
              "    </tr>\n",
              "    <tr>\n",
              "      <th>33</th>\n",
              "      <td>fiftyshadesofgrey</td>\n",
              "      <td>e.l.james</td>\n",
              "      <td>3.67</td>\n",
              "    </tr>\n",
              "    <tr>\n",
              "      <th>34</th>\n",
              "      <td>oalquimista</td>\n",
              "      <td>paulocoelho,alanr.clarke</td>\n",
              "      <td>3.82</td>\n",
              "    </tr>\n",
              "    <tr>\n",
              "      <th>35</th>\n",
              "      <td>thegiver</td>\n",
              "      <td>loislowry</td>\n",
              "      <td>4.12</td>\n",
              "    </tr>\n",
              "  </tbody>\n",
              "</table>\n",
              "</div>"
            ],
            "text/plain": [
              "       original_title                   authors average_rating\n",
              "31       ofmiceandmen             johnsteinbeck           3.84\n",
              "32   memoirsofageisha              arthurgolden           4.08\n",
              "33  fiftyshadesofgrey                 e.l.james           3.67\n",
              "34        oalquimista  paulocoelho,alanr.clarke           3.82\n",
              "35           thegiver                 loislowry           4.12"
            ]
          },
          "metadata": {
            "tags": []
          },
          "execution_count": 11
        }
      ]
    },
    {
      "cell_type": "code",
      "metadata": {
        "id": "tj5qOrOqckNi"
      },
      "source": [
        "def bag_of_words(x):\n",
        "  return x['original_title']+' '+x['authors']+' '+x['average_rating']"
      ],
      "execution_count": null,
      "outputs": []
    },
    {
      "cell_type": "code",
      "metadata": {
        "id": "lkcsqpr4mVts",
        "colab": {
          "base_uri": "https://localhost:8080/",
          "height": 204
        },
        "outputId": "fae4cd7d-1e20-4ce1-d8ed-bc424bed9271"
      },
      "source": [
        "fillednabooks['mixture']=fillednabooks.apply(bag_of_words,axis=1)\n",
        "fillednabooks[31:36]"
      ],
      "execution_count": null,
      "outputs": [
        {
          "output_type": "execute_result",
          "data": {
            "text/html": [
              "<div>\n",
              "<style scoped>\n",
              "    .dataframe tbody tr th:only-of-type {\n",
              "        vertical-align: middle;\n",
              "    }\n",
              "\n",
              "    .dataframe tbody tr th {\n",
              "        vertical-align: top;\n",
              "    }\n",
              "\n",
              "    .dataframe thead th {\n",
              "        text-align: right;\n",
              "    }\n",
              "</style>\n",
              "<table border=\"1\" class=\"dataframe\">\n",
              "  <thead>\n",
              "    <tr style=\"text-align: right;\">\n",
              "      <th></th>\n",
              "      <th>original_title</th>\n",
              "      <th>authors</th>\n",
              "      <th>average_rating</th>\n",
              "      <th>mixture</th>\n",
              "    </tr>\n",
              "  </thead>\n",
              "  <tbody>\n",
              "    <tr>\n",
              "      <th>31</th>\n",
              "      <td>ofmiceandmen</td>\n",
              "      <td>johnsteinbeck</td>\n",
              "      <td>3.84</td>\n",
              "      <td>ofmiceandmen johnsteinbeck 3.84</td>\n",
              "    </tr>\n",
              "    <tr>\n",
              "      <th>32</th>\n",
              "      <td>memoirsofageisha</td>\n",
              "      <td>arthurgolden</td>\n",
              "      <td>4.08</td>\n",
              "      <td>memoirsofageisha arthurgolden 4.08</td>\n",
              "    </tr>\n",
              "    <tr>\n",
              "      <th>33</th>\n",
              "      <td>fiftyshadesofgrey</td>\n",
              "      <td>e.l.james</td>\n",
              "      <td>3.67</td>\n",
              "      <td>fiftyshadesofgrey e.l.james 3.67</td>\n",
              "    </tr>\n",
              "    <tr>\n",
              "      <th>34</th>\n",
              "      <td>oalquimista</td>\n",
              "      <td>paulocoelho,alanr.clarke</td>\n",
              "      <td>3.82</td>\n",
              "      <td>oalquimista paulocoelho,alanr.clarke 3.82</td>\n",
              "    </tr>\n",
              "    <tr>\n",
              "      <th>35</th>\n",
              "      <td>thegiver</td>\n",
              "      <td>loislowry</td>\n",
              "      <td>4.12</td>\n",
              "      <td>thegiver loislowry 4.12</td>\n",
              "    </tr>\n",
              "  </tbody>\n",
              "</table>\n",
              "</div>"
            ],
            "text/plain": [
              "       original_title  ...                                    mixture\n",
              "31       ofmiceandmen  ...            ofmiceandmen johnsteinbeck 3.84\n",
              "32   memoirsofageisha  ...         memoirsofageisha arthurgolden 4.08\n",
              "33  fiftyshadesofgrey  ...           fiftyshadesofgrey e.l.james 3.67\n",
              "34        oalquimista  ...  oalquimista paulocoelho,alanr.clarke 3.82\n",
              "35           thegiver  ...                    thegiver loislowry 4.12\n",
              "\n",
              "[5 rows x 4 columns]"
            ]
          },
          "metadata": {
            "tags": []
          },
          "execution_count": 13
        }
      ]
    },
    {
      "cell_type": "code",
      "metadata": {
        "id": "WTW04RTSnVrJ"
      },
      "source": [
        "from sklearn.feature_extraction.text import CountVectorizer\n",
        "from sklearn.metrics.pairwise import cosine_similarity"
      ],
      "execution_count": null,
      "outputs": []
    },
    {
      "cell_type": "code",
      "metadata": {
        "id": "8oeR8DxHoCe_"
      },
      "source": [
        "count= CountVectorizer(stop_words='english')\n",
        "count_matrix = count.fit_transform(fillednabooks['mixture'])"
      ],
      "execution_count": null,
      "outputs": []
    },
    {
      "cell_type": "code",
      "metadata": {
        "id": "2hfAefu_onVH"
      },
      "source": [
        "cos_sim2= cosine_similarity(count_matrix,count_matrix)"
      ],
      "execution_count": null,
      "outputs": []
    },
    {
      "cell_type": "code",
      "metadata": {
        "id": "PqYaUXidzHf-"
      },
      "source": [
        "fillednabooks=fillednabooks.reset_index()\n",
        "indices=pd.Series(fillednabooks.index,index=fillednabooks['original_title'])"
      ],
      "execution_count": null,
      "outputs": []
    },
    {
      "cell_type": "code",
      "metadata": {
        "id": "zSkEzW881Q2L"
      },
      "source": [
        "def recommend_new(title, cos_sim=cos_sim2):\n",
        "  title=title.replace(' ','').lower()\n",
        "  idx = indices[title]\n",
        "  sim_scores= list(enumerate(cos_sim[idx]))\n",
        "  sim_scores= sorted(sim_scores,key=lambda x: x[1], reverse=True)\n",
        "  sim_scores= sim_scores[1:7]\n",
        "  indices_1=[i[0] for i in sim_scores]\n",
        "  return list(books['original_title'].iloc[indices_1])"
      ],
      "execution_count": null,
      "outputs": []
    },
    {
      "cell_type": "code",
      "metadata": {
        "id": "bHSP6qZg4Fpk",
        "colab": {
          "base_uri": "https://localhost:8080/",
          "height": 542
        },
        "outputId": "12128623-d156-4fbb-9be2-330e001a0d5c"
      },
      "source": [
        "r=recommend_new('The Notebook', cos_sim2)\n",
        "import plotly.graph_objects as go\n",
        "fig = go.Figure(data=[go.Table(header=dict(values=r,fill_color='Orange'))])\n",
        "fig.show()"
      ],
      "execution_count": null,
      "outputs": [
        {
          "output_type": "display_data",
          "data": {
            "text/html": [
              "<html>\n",
              "<head><meta charset=\"utf-8\" /></head>\n",
              "<body>\n",
              "    <div>\n",
              "            <script src=\"https://cdnjs.cloudflare.com/ajax/libs/mathjax/2.7.5/MathJax.js?config=TeX-AMS-MML_SVG\"></script><script type=\"text/javascript\">if (window.MathJax) {MathJax.Hub.Config({SVG: {font: \"STIX-Web\"}});}</script>\n",
              "                <script type=\"text/javascript\">window.PlotlyConfig = {MathJaxConfig: 'local'};</script>\n",
              "        <script src=\"https://cdn.plot.ly/plotly-latest.min.js\"></script>    \n",
              "            <div id=\"cf3f91a0-36b8-4faf-9a9e-64b9792ed07b\" class=\"plotly-graph-div\" style=\"height:525px; width:100%;\"></div>\n",
              "            <script type=\"text/javascript\">\n",
              "                \n",
              "                    window.PLOTLYENV=window.PLOTLYENV || {};\n",
              "                    \n",
              "                if (document.getElementById(\"cf3f91a0-36b8-4faf-9a9e-64b9792ed07b\")) {\n",
              "                    Plotly.newPlot(\n",
              "                        'cf3f91a0-36b8-4faf-9a9e-64b9792ed07b',\n",
              "                        [{\"header\": {\"fill\": {\"color\": \"Orange\"}, \"values\": [\"The Lucky One\", \"The Rescue\", \"True Believer\", null, \"Two By Two\", null]}, \"type\": \"table\"}],\n",
              "                        {\"template\": {\"data\": {\"bar\": [{\"error_x\": {\"color\": \"#2a3f5f\"}, \"error_y\": {\"color\": \"#2a3f5f\"}, \"marker\": {\"line\": {\"color\": \"#E5ECF6\", \"width\": 0.5}}, \"type\": \"bar\"}], \"barpolar\": [{\"marker\": {\"line\": {\"color\": \"#E5ECF6\", \"width\": 0.5}}, \"type\": \"barpolar\"}], \"carpet\": [{\"aaxis\": {\"endlinecolor\": \"#2a3f5f\", \"gridcolor\": \"white\", \"linecolor\": \"white\", \"minorgridcolor\": \"white\", \"startlinecolor\": \"#2a3f5f\"}, \"baxis\": {\"endlinecolor\": \"#2a3f5f\", \"gridcolor\": \"white\", \"linecolor\": \"white\", \"minorgridcolor\": \"white\", \"startlinecolor\": \"#2a3f5f\"}, \"type\": \"carpet\"}], \"choropleth\": [{\"colorbar\": {\"outlinewidth\": 0, \"ticks\": \"\"}, \"type\": \"choropleth\"}], \"contour\": [{\"colorbar\": {\"outlinewidth\": 0, \"ticks\": \"\"}, \"colorscale\": [[0.0, \"#0d0887\"], [0.1111111111111111, \"#46039f\"], [0.2222222222222222, \"#7201a8\"], [0.3333333333333333, \"#9c179e\"], [0.4444444444444444, \"#bd3786\"], [0.5555555555555556, \"#d8576b\"], [0.6666666666666666, \"#ed7953\"], [0.7777777777777778, \"#fb9f3a\"], [0.8888888888888888, \"#fdca26\"], [1.0, \"#f0f921\"]], \"type\": \"contour\"}], \"contourcarpet\": [{\"colorbar\": {\"outlinewidth\": 0, \"ticks\": \"\"}, \"type\": \"contourcarpet\"}], \"heatmap\": [{\"colorbar\": {\"outlinewidth\": 0, \"ticks\": \"\"}, \"colorscale\": [[0.0, \"#0d0887\"], [0.1111111111111111, \"#46039f\"], [0.2222222222222222, \"#7201a8\"], [0.3333333333333333, \"#9c179e\"], [0.4444444444444444, \"#bd3786\"], [0.5555555555555556, \"#d8576b\"], [0.6666666666666666, \"#ed7953\"], [0.7777777777777778, \"#fb9f3a\"], [0.8888888888888888, \"#fdca26\"], [1.0, \"#f0f921\"]], \"type\": \"heatmap\"}], \"heatmapgl\": [{\"colorbar\": {\"outlinewidth\": 0, \"ticks\": \"\"}, \"colorscale\": [[0.0, \"#0d0887\"], [0.1111111111111111, \"#46039f\"], [0.2222222222222222, \"#7201a8\"], [0.3333333333333333, \"#9c179e\"], [0.4444444444444444, \"#bd3786\"], [0.5555555555555556, \"#d8576b\"], [0.6666666666666666, \"#ed7953\"], [0.7777777777777778, \"#fb9f3a\"], [0.8888888888888888, \"#fdca26\"], [1.0, \"#f0f921\"]], \"type\": \"heatmapgl\"}], \"histogram\": [{\"marker\": {\"colorbar\": {\"outlinewidth\": 0, \"ticks\": \"\"}}, \"type\": \"histogram\"}], \"histogram2d\": [{\"colorbar\": {\"outlinewidth\": 0, \"ticks\": \"\"}, \"colorscale\": [[0.0, \"#0d0887\"], [0.1111111111111111, \"#46039f\"], [0.2222222222222222, \"#7201a8\"], [0.3333333333333333, \"#9c179e\"], [0.4444444444444444, \"#bd3786\"], [0.5555555555555556, \"#d8576b\"], [0.6666666666666666, \"#ed7953\"], [0.7777777777777778, \"#fb9f3a\"], [0.8888888888888888, \"#fdca26\"], [1.0, \"#f0f921\"]], \"type\": \"histogram2d\"}], \"histogram2dcontour\": [{\"colorbar\": {\"outlinewidth\": 0, \"ticks\": \"\"}, \"colorscale\": [[0.0, \"#0d0887\"], [0.1111111111111111, \"#46039f\"], [0.2222222222222222, \"#7201a8\"], [0.3333333333333333, \"#9c179e\"], [0.4444444444444444, \"#bd3786\"], [0.5555555555555556, \"#d8576b\"], [0.6666666666666666, \"#ed7953\"], [0.7777777777777778, \"#fb9f3a\"], [0.8888888888888888, \"#fdca26\"], [1.0, \"#f0f921\"]], \"type\": \"histogram2dcontour\"}], \"mesh3d\": [{\"colorbar\": {\"outlinewidth\": 0, \"ticks\": \"\"}, \"type\": \"mesh3d\"}], \"parcoords\": [{\"line\": {\"colorbar\": {\"outlinewidth\": 0, \"ticks\": \"\"}}, \"type\": \"parcoords\"}], \"pie\": [{\"automargin\": true, \"type\": \"pie\"}], \"scatter\": [{\"marker\": {\"colorbar\": {\"outlinewidth\": 0, \"ticks\": \"\"}}, \"type\": \"scatter\"}], \"scatter3d\": [{\"line\": {\"colorbar\": {\"outlinewidth\": 0, \"ticks\": \"\"}}, \"marker\": {\"colorbar\": {\"outlinewidth\": 0, \"ticks\": \"\"}}, \"type\": \"scatter3d\"}], \"scattercarpet\": [{\"marker\": {\"colorbar\": {\"outlinewidth\": 0, \"ticks\": \"\"}}, \"type\": \"scattercarpet\"}], \"scattergeo\": [{\"marker\": {\"colorbar\": {\"outlinewidth\": 0, \"ticks\": \"\"}}, \"type\": \"scattergeo\"}], \"scattergl\": [{\"marker\": {\"colorbar\": {\"outlinewidth\": 0, \"ticks\": \"\"}}, \"type\": \"scattergl\"}], \"scattermapbox\": [{\"marker\": {\"colorbar\": {\"outlinewidth\": 0, \"ticks\": \"\"}}, \"type\": \"scattermapbox\"}], \"scatterpolar\": [{\"marker\": {\"colorbar\": {\"outlinewidth\": 0, \"ticks\": \"\"}}, \"type\": \"scatterpolar\"}], \"scatterpolargl\": [{\"marker\": {\"colorbar\": {\"outlinewidth\": 0, \"ticks\": \"\"}}, \"type\": \"scatterpolargl\"}], \"scatterternary\": [{\"marker\": {\"colorbar\": {\"outlinewidth\": 0, \"ticks\": \"\"}}, \"type\": \"scatterternary\"}], \"surface\": [{\"colorbar\": {\"outlinewidth\": 0, \"ticks\": \"\"}, \"colorscale\": [[0.0, \"#0d0887\"], [0.1111111111111111, \"#46039f\"], [0.2222222222222222, \"#7201a8\"], [0.3333333333333333, \"#9c179e\"], [0.4444444444444444, \"#bd3786\"], [0.5555555555555556, \"#d8576b\"], [0.6666666666666666, \"#ed7953\"], [0.7777777777777778, \"#fb9f3a\"], [0.8888888888888888, \"#fdca26\"], [1.0, \"#f0f921\"]], \"type\": \"surface\"}], \"table\": [{\"cells\": {\"fill\": {\"color\": \"#EBF0F8\"}, \"line\": {\"color\": \"white\"}}, \"header\": {\"fill\": {\"color\": \"#C8D4E3\"}, \"line\": {\"color\": \"white\"}}, \"type\": \"table\"}]}, \"layout\": {\"annotationdefaults\": {\"arrowcolor\": \"#2a3f5f\", \"arrowhead\": 0, \"arrowwidth\": 1}, \"coloraxis\": {\"colorbar\": {\"outlinewidth\": 0, \"ticks\": \"\"}}, \"colorscale\": {\"diverging\": [[0, \"#8e0152\"], [0.1, \"#c51b7d\"], [0.2, \"#de77ae\"], [0.3, \"#f1b6da\"], [0.4, \"#fde0ef\"], [0.5, \"#f7f7f7\"], [0.6, \"#e6f5d0\"], [0.7, \"#b8e186\"], [0.8, \"#7fbc41\"], [0.9, \"#4d9221\"], [1, \"#276419\"]], \"sequential\": [[0.0, \"#0d0887\"], [0.1111111111111111, \"#46039f\"], [0.2222222222222222, \"#7201a8\"], [0.3333333333333333, \"#9c179e\"], [0.4444444444444444, \"#bd3786\"], [0.5555555555555556, \"#d8576b\"], [0.6666666666666666, \"#ed7953\"], [0.7777777777777778, \"#fb9f3a\"], [0.8888888888888888, \"#fdca26\"], [1.0, \"#f0f921\"]], \"sequentialminus\": [[0.0, \"#0d0887\"], [0.1111111111111111, \"#46039f\"], [0.2222222222222222, \"#7201a8\"], [0.3333333333333333, \"#9c179e\"], [0.4444444444444444, \"#bd3786\"], [0.5555555555555556, \"#d8576b\"], [0.6666666666666666, \"#ed7953\"], [0.7777777777777778, \"#fb9f3a\"], [0.8888888888888888, \"#fdca26\"], [1.0, \"#f0f921\"]]}, \"colorway\": [\"#636efa\", \"#EF553B\", \"#00cc96\", \"#ab63fa\", \"#FFA15A\", \"#19d3f3\", \"#FF6692\", \"#B6E880\", \"#FF97FF\", \"#FECB52\"], \"font\": {\"color\": \"#2a3f5f\"}, \"geo\": {\"bgcolor\": \"white\", \"lakecolor\": \"white\", \"landcolor\": \"#E5ECF6\", \"showlakes\": true, \"showland\": true, \"subunitcolor\": \"white\"}, \"hoverlabel\": {\"align\": \"left\"}, \"hovermode\": \"closest\", \"mapbox\": {\"style\": \"light\"}, \"paper_bgcolor\": \"white\", \"plot_bgcolor\": \"#E5ECF6\", \"polar\": {\"angularaxis\": {\"gridcolor\": \"white\", \"linecolor\": \"white\", \"ticks\": \"\"}, \"bgcolor\": \"#E5ECF6\", \"radialaxis\": {\"gridcolor\": \"white\", \"linecolor\": \"white\", \"ticks\": \"\"}}, \"scene\": {\"xaxis\": {\"backgroundcolor\": \"#E5ECF6\", \"gridcolor\": \"white\", \"gridwidth\": 2, \"linecolor\": \"white\", \"showbackground\": true, \"ticks\": \"\", \"zerolinecolor\": \"white\"}, \"yaxis\": {\"backgroundcolor\": \"#E5ECF6\", \"gridcolor\": \"white\", \"gridwidth\": 2, \"linecolor\": \"white\", \"showbackground\": true, \"ticks\": \"\", \"zerolinecolor\": \"white\"}, \"zaxis\": {\"backgroundcolor\": \"#E5ECF6\", \"gridcolor\": \"white\", \"gridwidth\": 2, \"linecolor\": \"white\", \"showbackground\": true, \"ticks\": \"\", \"zerolinecolor\": \"white\"}}, \"shapedefaults\": {\"line\": {\"color\": \"#2a3f5f\"}}, \"ternary\": {\"aaxis\": {\"gridcolor\": \"white\", \"linecolor\": \"white\", \"ticks\": \"\"}, \"baxis\": {\"gridcolor\": \"white\", \"linecolor\": \"white\", \"ticks\": \"\"}, \"bgcolor\": \"#E5ECF6\", \"caxis\": {\"gridcolor\": \"white\", \"linecolor\": \"white\", \"ticks\": \"\"}}, \"title\": {\"x\": 0.05}, \"xaxis\": {\"automargin\": true, \"gridcolor\": \"white\", \"linecolor\": \"white\", \"ticks\": \"\", \"title\": {\"standoff\": 15}, \"zerolinecolor\": \"white\", \"zerolinewidth\": 2}, \"yaxis\": {\"automargin\": true, \"gridcolor\": \"white\", \"linecolor\": \"white\", \"ticks\": \"\", \"title\": {\"standoff\": 15}, \"zerolinecolor\": \"white\", \"zerolinewidth\": 2}}}},\n",
              "                        {\"responsive\": true}\n",
              "                    ).then(function(){\n",
              "                            \n",
              "var gd = document.getElementById('cf3f91a0-36b8-4faf-9a9e-64b9792ed07b');\n",
              "var x = new MutationObserver(function (mutations, observer) {{\n",
              "        var display = window.getComputedStyle(gd).display;\n",
              "        if (!display || display === 'none') {{\n",
              "            console.log([gd, 'removed!']);\n",
              "            Plotly.purge(gd);\n",
              "            observer.disconnect();\n",
              "        }}\n",
              "}});\n",
              "\n",
              "// Listen for the removal of the full notebook cells\n",
              "var notebookContainer = gd.closest('#notebook-container');\n",
              "if (notebookContainer) {{\n",
              "    x.observe(notebookContainer, {childList: true});\n",
              "}}\n",
              "\n",
              "// Listen for the clearing of the current output cell\n",
              "var outputEl = gd.closest('.output');\n",
              "if (outputEl) {{\n",
              "    x.observe(outputEl, {childList: true});\n",
              "}}\n",
              "\n",
              "                        })\n",
              "                };\n",
              "                \n",
              "            </script>\n",
              "        </div>\n",
              "</body>\n",
              "</html>"
            ]
          },
          "metadata": {
            "tags": []
          }
        }
      ]
    },
    {
      "cell_type": "code",
      "metadata": {
        "id": "9PWPEE_7XNvS"
      },
      "source": [],
      "execution_count": null,
      "outputs": []
    }
  ]
}